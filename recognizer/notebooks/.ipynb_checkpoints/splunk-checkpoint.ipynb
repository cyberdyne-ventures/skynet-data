{
 "cells": [
  {
   "cell_type": "code",
   "execution_count": null,
   "id": "a24dbd5a-6f1c-43ab-9a9a-3ecf1714ab6d",
   "metadata": {},
   "outputs": [],
   "source": [
    "import chardet\n",
    "import pandas as pd\n",
    "\n",
    "filename = 'splunk.csv'\n",
    "\n",
    "# Step 1: Detect encoding\n",
    "with open(filename, 'rb') as f:\n",
    "    raw_data = f.read(100000)  # Read a chunk of the file\n",
    "    result = chardet.detect(raw_data)\n",
    "    detected_encoding = result['encoding']\n",
    "    print(f\"Detected encoding: {detected_encoding}\")\n",
    "\n",
    "# Step 2: Read the CSV using detected encoding\n",
    "raw = pd.read_csv(filename, encoding=detected_encoding)"
   ]
  },
  {
   "cell_type": "code",
   "execution_count": null,
   "id": "09968fd0-1881-49f0-a91f-440dcbbb8e88",
   "metadata": {},
   "outputs": [],
   "source": [
    "df = raw\n",
    "df = df.drop(columns=[\n",
    "    '_raw',\n",
    "    'annotations.mitre_attack.mitre_description',\n",
    "    'annotations.mitre_attack.mitre_detection'\n",
    "])\n"
   ]
  },
  {
   "cell_type": "code",
   "execution_count": null,
   "id": "1340029a-0281-49d1-96d6-63c01a360d41",
   "metadata": {},
   "outputs": [],
   "source": [
    "fields_to_check = [\n",
    "    'guid', 'timestamp', 'detection_type', 'name', 'severity', \n",
    "    'mitre_tactic', 'entity', 'entity_type', 'host_ip', 'source_ip',\n",
    "    'dest_port', 'dst_geo', 'username', 'user_agent', 'syscall_name', 'executable',\n",
    "     'message', 'proctitle'\n",
    "]\n",
    "for field in fields_to_check:\n",
    "    if field not in df.columns:\n",
    "        df[field] = ''\n"
   ]
  },
  {
   "cell_type": "code",
   "execution_count": null,
   "id": "38c5180c-525e-400a-b6a0-5e920520c4e5",
   "metadata": {},
   "outputs": [],
   "source": [
    "fields_to_check = [\n",
    "    'source', 'guid', 'timestamp', 'detection_type', 'name', 'severity', 'category',\n",
    "    'mitre_tactic', 'entity', 'entity_type', 'host_ip', 'source_ip', 'dest_ip',\n",
    "    'dest_port', 'dst_geo', 'username', 'user_agent', 'syscall_name', 'executable',\n",
    "    'process', 'message', 'proctitle'\n",
    "]\n",
    "\n",
    "existing_fields = [f for f in fields_to_check if f in df.columns]\n",
    "missing_fields = [f for f in fields_to_check if f not in df.columns]\n",
    "\n",
    "print(\"Existing fields:\")\n",
    "print(existing_fields)\n",
    "print(\"\\nMissing fields:\")\n",
    "print(missing_fields)\n"
   ]
  },
  {
   "cell_type": "code",
   "execution_count": null,
   "id": "5dc5390c-d514-4262-8f9b-582ed3caf746",
   "metadata": {},
   "outputs": [],
   "source": [
    "names = df[['AlertTitle', 'search_name', 'source', 'threat_name', 'ThreatCategory']].drop_duplicates()\n",
    "pd.set_option(\"display.max_colwidth\", None)  # Replace 50 with desired number of columns\n",
    "pd.set_option(\"display.max_rows\", 50)  # Replace 50 with desired number of columns\n",
    "names"
   ]
  },
  {
   "cell_type": "code",
   "execution_count": null,
   "id": "e4a98a6d-5e71-4c63-bd56-871c3b86831b",
   "metadata": {},
   "outputs": [],
   "source": [
    "users = df[['LogOnUsers', 'user', 'risk_object', 'normalized_risk_object', 'username']].drop_duplicates()\n",
    "pd.set_option(\"display.max_rows\", 100)  # Replace 50 with desired number of columns\n",
    "pd.set_option(\"display.max_colwidth\", None)  # Replace 50 with desired number of columns\n",
    "users"
   ]
  },
  {
   "cell_type": "code",
   "execution_count": null,
   "id": "d2e18279-65a7-40dd-836e-da4ea60197cc",
   "metadata": {},
   "outputs": [],
   "source": [
    "hosts = df[[ 'dest', 'dest_nt_host', 'risk_object_nt_host', 'host']].drop_duplicates()\n",
    "pd.set_option(\"display.max_colwidth\", None)  # Replace 50 with desired number of columns\n",
    "hosts"
   ]
  },
  {
   "cell_type": "code",
   "execution_count": null,
   "id": "2c238d56-b3d1-4751-9561-f69ef6142933",
   "metadata": {},
   "outputs": [],
   "source": [
    "# Extract alert name\n",
    "\n",
    "# Set display options\n",
    "pd.set_option(\"display.max_rows\", 500)\n",
    "pd.set_option(\"display.max_columns\", 100)\n",
    "pd.set_option(\"display.max_colwidth\", None)\n",
    "\n",
    "# Step 1: Start with 'search_name' as the base for 'name'\n",
    "df['name'] = df['search_name'].fillna('')\n",
    "\n",
    "# Step 2: Append non-null values from the other fields\n",
    "for field in ['AlertTitle', 'threat_name', 'ThreatCategory']:\n",
    "    df['name'] = df.apply(\n",
    "        lambda row: row['name'] + f\"--{row[field]}\" if pd.notna(row[field]) else row['name'],\n",
    "        axis=1\n",
    "    )\n",
    "print(df['name'].unique())"
   ]
  },
  {
   "cell_type": "code",
   "execution_count": null,
   "id": "13cc24a1-3395-4509-af96-5876bafd4fa4",
   "metadata": {},
   "outputs": [],
   "source": []
  },
  {
   "cell_type": "code",
   "execution_count": null,
   "id": "bdde1390-94dc-4bd3-9dd7-8998f81f6ab8",
   "metadata": {},
   "outputs": [],
   "source": [
    "# Populate detection type\n",
    "df['detection_type'] = df['name'].apply(\n",
    "    lambda x: \"Splunk Risk Threshold\" if 'Risk Threshold Exceeded' in x else \"Splunk Alert\"\n",
    ")\n",
    "print(df['detection_type'].unique())"
   ]
  },
  {
   "cell_type": "code",
   "execution_count": null,
   "id": "abc1dbb3-ea32-44ab-a2a1-3b97bfa562b5",
   "metadata": {},
   "outputs": [],
   "source": [
    "df['username'] = df['user'].where(pd.notna(df['user']))\n",
    "# Ensure entity and entity_type columns exist (create if missing)\n",
    "df['entity'] = None\n",
    "df['entity_type'] = None\n",
    "\n",
    "# If 'host' is populated, set entity=host and entity_type='endpoint'\n",
    "df.loc[df['host'].notna(), 'entity'] = df.loc[df['host'].notna(), 'host']\n",
    "df.loc[df['host'].notna(), 'entity_type'] = 'endpoint'\n",
    "\n",
    "# If 'host' is not populated, set entity=username and entity_type='user'\n",
    "df.loc[df['host'].isna(), 'entity'] = df.loc[df['host'].isna(), 'username']\n",
    "df.loc[df['host'].isna(), 'entity_type'] = 'user'\n",
    "print(df['entity'].unique())"
   ]
  },
  {
   "cell_type": "code",
   "execution_count": null,
   "id": "5bdf40ef-7bec-4148-bc6e-5295385f401d",
   "metadata": {},
   "outputs": [],
   "source": [
    "df['timestamp'] = df['_time']\n",
    "df['mitre_tactic'] = df['annotations.mitre_attack.mitre_tactic'].str.replace('\\n', '  |  ', regex=False)\n",
    "df['source'] = 'Splunk'\n"
   ]
  },
  {
   "cell_type": "code",
   "execution_count": null,
   "id": "784a2539-e5f6-44b9-8ddb-48c80af8de93",
   "metadata": {},
   "outputs": [],
   "source": [
    "# List of fields to keep\n",
    "fields_to_keep = [\n",
    "    'source', 'guid', 'timestamp', 'detection_type', 'name', 'severity', 'category',\n",
    "    'mitre_tactic', 'entity', 'entity_type', 'host_ip', 'source_ip', 'dest_ip',\n",
    "    'dest_port', 'dst_geo', 'username', 'user_agent', 'syscall_name', 'executable',\n",
    "    'process', 'message', 'proctitle'\n",
    "]\n",
    "\n",
    "# Create a copy of df with only those columns\n",
    "df_new = df[fields_to_keep].copy()\n",
    "df_new = df_new.where(pd.notna(df_new), None)\n"
   ]
  },
  {
   "cell_type": "code",
   "execution_count": null,
   "id": "8f1b5926-2f14-4dd7-b71f-adbed4f94305",
   "metadata": {},
   "outputs": [],
   "source": [
    "df_new"
   ]
  },
  {
   "cell_type": "code",
   "execution_count": null,
   "id": "52175730-ebc2-49a2-9676-353128e18187",
   "metadata": {},
   "outputs": [],
   "source": [
    "df_new.to_json('splunk-output.json', orient='records', lines=True)\n"
   ]
  }
 ],
 "metadata": {
  "kernelspec": {
   "display_name": "Python 3 (ipykernel)",
   "language": "python",
   "name": "python3"
  },
  "language_info": {
   "codemirror_mode": {
    "name": "ipython",
    "version": 3
   },
   "file_extension": ".py",
   "mimetype": "text/x-python",
   "name": "python",
   "nbconvert_exporter": "python",
   "pygments_lexer": "ipython3",
   "version": "3.11.7"
  }
 },
 "nbformat": 4,
 "nbformat_minor": 5
}
