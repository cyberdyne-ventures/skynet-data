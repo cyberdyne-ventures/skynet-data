{
 "cells": [
  {
   "cell_type": "code",
   "execution_count": 35,
   "id": "12ab7401-22b3-4dff-a38f-37a25e5f0f86",
   "metadata": {},
   "outputs": [],
   "source": [
    "import pandas as pd\n",
    "import glob\n",
    "import os\n",
    "import json\n",
    "from io import StringIO\n",
    "from datetime import datetime\n",
    "import re"
   ]
  },
  {
   "cell_type": "code",
   "execution_count": 36,
   "id": "e9c3ca3f-3549-492d-a4e8-45946a915984",
   "metadata": {
    "tags": []
   },
   "outputs": [
    {
     "name": "stdout",
     "output_type": "stream",
     "text": [
      "Start Time: 2024-11-20 19:06:21.707318\n",
      "Number of rows: 29\n",
      "Number of columns: 35\n",
      "End Time: 2024-11-20 19:06:21.760693\n",
      "Elapsed Time: 0:00:00.053375\n"
     ]
    }
   ],
   "source": [
    "\n",
    "folder_path = 'suricata'  \n",
    "\n",
    "\n",
    "start_time = datetime.now()\n",
    "print(\"Start Time:\", start_time)\n",
    "\n",
    "\n",
    "chunks = []\n",
    "alert_count = 0\n",
    "max_alerts = 50000  \n",
    "\n",
    "\n",
    "for file_name in os.listdir(folder_path):\n",
    "    if file_name.endswith('.json'):\n",
    "        file_path = os.path.join(folder_path, file_name)\n",
    "        \n",
    "        \n",
    "        with open(file_path, 'r', encoding='utf-8') as file:\n",
    "            for line in file:\n",
    "                if alert_count >= max_alerts:\n",
    "                    break  \n",
    "                \n",
    "                try:\n",
    "                    \n",
    "                    data = json.loads(line.strip())\n",
    "                    \n",
    "                    \n",
    "                    if data.get('event_type') == 'alert':\n",
    "                        \n",
    "                        chunks.append(pd.json_normalize(data))\n",
    "                        alert_count += 1\n",
    "                except json.JSONDecodeError:\n",
    "                    \n",
    "                    continue\n",
    "\n",
    "\n",
    "if chunks:\n",
    "    suricata = pd.concat(chunks, ignore_index=True)\n",
    "else:\n",
    "    df = pd.DataFrame()  \n",
    "\n",
    "\n",
    "print(f\"Number of rows: {suricata.shape[0]}\")\n",
    "print(f\"Number of columns: {suricata.shape[1]}\")\n",
    "\n",
    "\n",
    "end_time = datetime.now()\n",
    "print(\"End Time:\", end_time)\n",
    "\n",
    "\n",
    "elapsed_time = end_time - start_time\n",
    "print(f\"Elapsed Time: {elapsed_time}\")\n"
   ]
  },
  {
   "cell_type": "code",
   "execution_count": 37,
   "id": "fc5e0fa5-bfa4-457f-b175-980ea471bfdb",
   "metadata": {},
   "outputs": [],
   "source": [
    "\n",
    "columns_to_delete = [\n",
    "    'dns.query', 'alert.metadata.confidence', 'files', 'alert.metadata.former_category',\n",
    "    'alert.metadata.performance_impact', 'icmp_type', 'icmp_code', \n",
    "    'metadata.flowints.http.anomaly.count', 'alert.metadata.cve', \n",
    "    'metadata.flowints.tcp.retransmission.count'\n",
    "]\n",
    "\n",
    "\n",
    "suricata = suricata.drop(columns=columns_to_delete, errors='ignore')\n",
    "suricata = suricata.where(pd.notna(suricata), None)\n"
   ]
  },
  {
   "cell_type": "code",
   "execution_count": 38,
   "id": "5197efb0-2b57-4e6a-8964-28bb35bbbbe5",
   "metadata": {},
   "outputs": [],
   "source": [
    "\n",
    "def remove_emojis(text):\n",
    "    if isinstance(text, str):\n",
    "        \n",
    "        return re.sub(r'[^\\w\\s-]', '', text)\n",
    "    else:\n",
    "        return text  \n",
    "\n",
    "suricata['alert.signature'] = suricata['alert.signature'].apply(remove_emojis)\n"
   ]
  },
  {
   "cell_type": "code",
   "execution_count": 39,
   "id": "169b0302-22ad-4f7f-b4b0-9130e4a174f1",
   "metadata": {},
   "outputs": [],
   "source": [
    "\n",
    "prefixes_to_delete =  ['app', 'http', 'ike', 'ssh', 'smb', 'sip', 'snmp', 'stats', 'tls', 'tcp']\n",
    "\n",
    "columns_to_delete = [col for col in suricata.columns if any(col.startswith(prefix) for prefix in prefixes_to_delete)]\n",
    "\n",
    "suricata = suricata.drop(columns=columns_to_delete)\n"
   ]
  },
  {
   "cell_type": "code",
   "execution_count": 40,
   "id": "1ce635ab-ded8-4315-8066-77c32618881e",
   "metadata": {
    "tags": []
   },
   "outputs": [],
   "source": [
    "\n",
    "suricata.loc[:, suricata.dtypes == 'object'] = suricata.loc[:, suricata.dtypes == 'object'].where(pd.notnull(suricata), None)\n",
    "\n",
    "#print(suricata.isna().sum())  "
   ]
  },
  {
   "cell_type": "code",
   "execution_count": 41,
   "id": "b449a231-1fef-43ca-b4a4-a2493d333fed",
   "metadata": {
    "tags": []
   },
   "outputs": [],
   "source": [
    "\n",
    "def clean_brackets(value):\n",
    "    if isinstance(value, list):\n",
    "        \n",
    "        return ', '.join([re.sub(r'[\\[\\]]', '', str(item)).strip() for item in value])\n",
    "    elif isinstance(value, str):\n",
    "        \n",
    "        return re.sub(r'[\\[\\]]', '', value).strip()\n",
    "    else:\n",
    "        \n",
    "        return value\n",
    "\n",
    "\n",
    "suricata = suricata.apply(lambda col: col.map(clean_brackets) if col.dtypes == 'object' else col)\n"
   ]
  },
  {
   "cell_type": "code",
   "execution_count": 42,
   "id": "fcd260f0-d13a-4bfd-b1e7-85c24e27b09a",
   "metadata": {},
   "outputs": [],
   "source": [
    "import ipaddress\n",
    "\n",
    "\n",
    "def is_private_ip(ip):\n",
    "    try:\n",
    "        \n",
    "        return ipaddress.ip_address(ip).is_private\n",
    "    except ValueError:\n",
    "        return False  \n",
    "\n",
    "\n",
    "def find_private_ip(row):\n",
    "    \n",
    "    if is_private_ip(row['src_ip']):\n",
    "        return row['src_ip']\n",
    "    elif is_private_ip(row['dest_ip']):\n",
    "        return row['dest_ip']\n",
    "    else:\n",
    "        return None  \n",
    "\n",
    "\n",
    "suricata['ipv4'] = suricata.apply(find_private_ip, axis=1)\n",
    "\n",
    "\n",
    "#print(suricata[['src_ip', 'dest_ip', 'ipv4']])"
   ]
  },
  {
   "cell_type": "code",
   "execution_count": 43,
   "id": "bc293d59-b3f8-4363-b7df-a84068afa6a7",
   "metadata": {},
   "outputs": [],
   "source": [
    "\n",
    "suricata['source'] = 'suricata'\n",
    "\n",
    "suricata = suricata[['source'] + [col for col in suricata.columns if col != 'source']]\n"
   ]
  },
  {
   "cell_type": "code",
   "execution_count": 44,
   "id": "6fa153f0-fe45-4837-9547-035d2caab41d",
   "metadata": {},
   "outputs": [
    {
     "name": "stdout",
     "output_type": "stream",
     "text": [
      "The following entities were created:\n",
      "           entity entity_type\n",
      "0  172.16.200.110        host\n"
     ]
    }
   ],
   "source": [
    "\n",
    "\n",
    "\n",
    "suricata = suricata.copy()\n",
    "\n",
    "\n",
    "suricata.loc[:, 'entity'] = None\n",
    "suricata.loc[:, 'entity_type'] = None\n",
    "\n",
    "\n",
    "\n",
    "suricata.loc[\n",
    "    suricata['ipv4'].notna() & \n",
    "    (suricata['ipv4'] != 'None') & \n",
    "    (suricata['ipv4'] != 'nan') & \n",
    "    (suricata['ipv4'] != ''),\n",
    "    'entity'\n",
    "] = suricata['ipv4']\n",
    "\n",
    "suricata.loc[\n",
    "    suricata['ipv4'].notna() & \n",
    "    (suricata['ipv4'] != 'None') & \n",
    "    (suricata['ipv4'] != 'nan') & \n",
    "    (suricata['ipv4'] != ''),\n",
    "    'entity_type'\n",
    "] = 'host'\n",
    "\n",
    "\n",
    "\n",
    "hosts = suricata[suricata['entity_type'] == 'host'][['entity', 'entity_type']].drop_duplicates()\n",
    "\n",
    "\n",
    "print(\"The following entities were created:\")\n",
    "print(hosts)\n",
    "\n"
   ]
  },
  {
   "cell_type": "code",
   "execution_count": 45,
   "id": "1ddf31d0-a169-41b3-a35a-c489522b6a56",
   "metadata": {
    "tags": []
   },
   "outputs": [
    {
     "name": "stdout",
     "output_type": "stream",
     "text": [
      "The following entities were created (sorted alphabetically by entity, showing up to 50 rows):\n",
      "           entity entity_type\n",
      "0  172.16.200.110        host\n"
     ]
    }
   ],
   "source": [
    "pd.set_option('display.max_rows', 50)  \n",
    "\n",
    "unique_combinations = suricata[['entity', 'entity_type']].drop_duplicates().head(50)\n",
    "unique_combinations = unique_combinations.sort_values(by='entity')\n",
    "\n",
    "print(\"The following entities were created (sorted alphabetically by entity, showing up to 50 rows):\")\n",
    "print(unique_combinations)\n"
   ]
  },
  {
   "cell_type": "code",
   "execution_count": 46,
   "id": "17c6737c-fb13-4722-b45b-5e8aa8d1c1e9",
   "metadata": {
    "tags": []
   },
   "outputs": [
    {
     "name": "stdout",
     "output_type": "stream",
     "text": [
      "There are no unpopulated entities.\n"
     ]
    }
   ],
   "source": [
    "\n",
    "null_suricata = suricata[\n",
    "    suricata['entity'].isna() | \n",
    "    suricata['entity_type'].isna() | \n",
    "    (suricata['entity'] == 'None') | \n",
    "    (suricata['entity_type'] == 'None') | \n",
    "    (suricata['entity'] == 'nan') | \n",
    "    (suricata['entity_type'] == 'nan')\n",
    "]\n",
    "\n",
    "\n",
    "if null_suricata.empty:\n",
    "    print(\"There are no unpopulated entities.\")\n",
    "else:\n",
    "    print(\"Rows where either 'entity' or 'entity_type' are null, None, or NaN:\")\n",
    "    print(null_suricata)"
   ]
  },
  {
   "cell_type": "code",
   "execution_count": 47,
   "id": "d1946cb1-b68a-4b5a-af2c-77b4b3e4f87c",
   "metadata": {},
   "outputs": [
    {
     "name": "stdout",
     "output_type": "stream",
     "text": [
      "Unique suricata entities have been written to 'entity_table.csv'.\n"
     ]
    }
   ],
   "source": [
    "unique_suricata = suricata[['entity', 'entity_type', 'ipv4']].drop_duplicates()\n",
    "unique_suricata.to_csv('entity_table.csv', mode='a', index=False, header=not pd.io.common.file_exists('entity_table.csv'))\n",
    "\n",
    "print(\"Unique suricata entities have been written to 'entity_table.csv'.\")"
   ]
  },
  {
   "cell_type": "code",
   "execution_count": 48,
   "id": "582689ec-f1bf-46b8-a449-3bb29bb233e8",
   "metadata": {},
   "outputs": [],
   "source": [
    "\n",
    "suricata = suricata.rename(columns={\n",
    "    'flow_id': 'guid',\n",
    "    'timestamp': 'timestamp',\n",
    "    'event.kind': 'detection_type',\n",
    "    'alert.signature': 'name',\n",
    "    'alert.severity': 'severity',\n",
    "    'alert.category': 'category',\n",
    "    'id': 'mitre_tactic',\n",
    "    'ipv4': 'host_ip',\n",
    "    'src_ip': 'source_ip',\n",
    "    'dest_ip': 'dest_ip',\n",
    "    'dest_port': 'dest_port'\n",
    "})\n"
   ]
  },
  {
   "cell_type": "code",
   "execution_count": 49,
   "id": "5786a07f-38f6-4423-9c4c-723fa0bdd710",
   "metadata": {
    "tags": []
   },
   "outputs": [],
   "source": [
    "\n",
    "severity_mapping = {1: 'high', 2: 'medium', 3: 'low'}\n",
    "suricata['severity'] = suricata['severity'].replace(severity_mapping)\n"
   ]
  },
  {
   "cell_type": "code",
   "execution_count": 50,
   "id": "4b19e55e-4c1a-4210-b1ce-036a53868d03",
   "metadata": {
    "tags": []
   },
   "outputs": [
    {
     "name": "stdout",
     "output_type": "stream",
     "text": [
      "Generated DataFrame name: suricata_20241120_190622\n",
      "DataFrame has been written to output\\suricata_20241120_190622.json\n"
     ]
    }
   ],
   "source": [
    "\n",
    "current_time = datetime.now().strftime(\"%Y%m%d_%H%M%S\")\n",
    "\n",
    "suricata_name = f\"suricata_{current_time}\"\n",
    "globals()[suricata_name] = suricata.copy()\n",
    "\n",
    "output_folder = 'output'\n",
    "os.makedirs(output_folder, exist_ok=True)\n",
    "\n",
    "output_file = os.path.join(output_folder, f\"{suricata_name}.json\")\n",
    "globals()[suricata_name].to_json(output_file, orient='records', lines=True)\n",
    "\n",
    "print(f\"Generated DataFrame name: {suricata_name}\")\n",
    "print(f\"DataFrame has been written to {output_file}\")"
   ]
  },
  {
   "cell_type": "code",
   "execution_count": null,
   "id": "f76c3d50-7c31-4fbf-98a4-1d5794deac9d",
   "metadata": {},
   "outputs": [],
   "source": []
  }
 ],
 "metadata": {
  "kernelspec": {
   "display_name": "Python 3 (ipykernel)",
   "language": "python",
   "name": "python3"
  },
  "language_info": {
   "codemirror_mode": {
    "name": "ipython",
    "version": 3
   },
   "file_extension": ".py",
   "mimetype": "text/x-python",
   "name": "python",
   "nbconvert_exporter": "python",
   "pygments_lexer": "ipython3",
   "version": "3.11.7"
  }
 },
 "nbformat": 4,
 "nbformat_minor": 5
}
