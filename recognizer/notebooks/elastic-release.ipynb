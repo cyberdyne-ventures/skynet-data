{
 "cells": [
  {
   "cell_type": "code",
   "execution_count": 32,
   "id": "7a834d4b-1cd5-47f0-a6ae-fddb6995a751",
   "metadata": {},
   "outputs": [],
   "source": [
    "from datetime import datetime\n",
    "import pandas as pd\n",
    "import glob\n",
    "import os\n",
    "import json\n",
    "import re\n"
   ]
  },
  {
   "cell_type": "code",
   "execution_count": 33,
   "id": "8ef43ce1-fde7-43e5-9f72-6f54d3fd2bf4",
   "metadata": {
    "tags": []
   },
   "outputs": [],
   "source": [
    "def process_all_json_files(directory_path):\n",
    "    all_dfs = []\n",
    "\n",
    "\n",
    "    for file_name in os.listdir(directory_path):\n",
    "        if file_name.endswith('.json'):\n",
    "            file_path = os.path.join(directory_path, file_name)\n",
    "            \n",
    "\n",
    "            with open(file_path, 'r') as file:\n",
    "                data = json.load(file)\n",
    "\n",
    "\n",
    "            if isinstance(data, list):\n",
    "                records = data\n",
    "            else:\n",
    "                records = data.get('Records', [])\n",
    "\n",
    "\n",
    "            df = pd.json_normalize(records)\n",
    "            all_dfs.append(df)\n",
    "\n",
    "\n",
    "    combined_df = pd.concat(all_dfs, ignore_index=True)\n",
    "    return combined_df\n",
    "\n",
    "\n",
    "directory_path = 'elastic'  \n",
    "df = process_all_json_files(directory_path)\n",
    "\n"
   ]
  },
  {
   "cell_type": "code",
   "execution_count": 34,
   "id": "9e8ad98a-5bac-43aa-914d-186589d9b71b",
   "metadata": {},
   "outputs": [],
   "source": [
    "df.columns = df.columns.str.replace(r'^_source\\.*', '', regex=True)\n",
    "df.columns = df.columns.str.lstrip('_')\n",
    "\n",
    "df = df.where(pd.notna(df), None)\n",
    "elastic = df.copy()\n",
    "\n",
    "def clean_brackets(value):\n",
    "    if isinstance(value, list):\n",
    "\n",
    "        return ', '.join([re.sub(r'[\\[\\]]', '', str(item)).strip() for item in value])\n",
    "    elif isinstance(value, str):\n",
    "\n",
    "        return re.sub(r'[\\[\\]]', '', value).strip()\n",
    "    else:\n",
    "\n",
    "        return value\n",
    "\n",
    "\n",
    "elastic['event.category'] = elastic['event.category'].apply(clean_brackets)\n",
    "elastic['host.name'] = elastic['host.name'].apply(clean_brackets)\n",
    "elastic['user.name'] = elastic['user.name'].apply(clean_brackets)\n",
    "elastic['source.ip'] = elastic['source.ip'].apply(clean_brackets)\n",
    "elastic['destination.ip'] = elastic['destination.ip'].apply(clean_brackets)\n"
   ]
  },
  {
   "cell_type": "code",
   "execution_count": 35,
   "id": "dfa7f0b5-9acb-42d9-bdec-0a6f3e899fa6",
   "metadata": {},
   "outputs": [
    {
     "name": "stdout",
     "output_type": "stream",
     "text": [
      "the following v6 IPs were populated in the ipv6 field:\n",
      "                          ipv6\n",
      "0                          ::1\n",
      "1        fe80::4001:aff:fe8e:3\n",
      "96   fe80::e927:12ed:7682:a6b6\n",
      "400                       None\n"
     ]
    }
   ],
   "source": [
    "\n",
    "def extract_ipv6(ip_list):\n",
    "    ipv6_pattern = re.compile(\n",
    "        r\"^([0-9a-fA-F]{1,4}:){7,7}[0-9a-fA-F]{1,4}|\"\n",
    "        r\"([0-9a-fA-F]{1,4}:){1,7}:|\"\n",
    "        r\"([0-9a-fA-F]{1,4}:){1,6}:[0-9a-fA-F]{1,4}|\"\n",
    "        r\"([0-9a-fA-F]{1,4}:){1,5}(:[0-9a-fA-F]{1,4}){1,2}|\"\n",
    "        r\"([0-9a-fA-F]{1,4}:){1,4}(:[0-9a-fA-F]{1,4}){1,3}|\"\n",
    "        r\"([0-9a-fA-F]{1,4}:){1,3}(:[0-9a-fA-F]{1,4}){1,4}|\"\n",
    "        r\"([0-9a-fA-F]{1,4}:){1,2}(:[0-9a-fA-F]{1,4}){1,5}|\"\n",
    "        r\"[0-9a-fA-F]{1,4}:((:[0-9a-fA-F]{1,4}){1,6})|\"\n",
    "        r\":((:[0-9a-fA-F]{1,4}){1,7}|:)|\"\n",
    "        r\"fe80:(:[0-9a-fA-F]{0,4}){0,4}%[0-9a-zA-Z]{1,}|\"\n",
    "        r\"::(ffff(:0{1,4}){0,1}:){0,1}\"\n",
    "        r\"(([0-9]{1,3}\\.){3,3}[0-9]{1,3})|\"\n",
    "        r\"([0-9a-fA-F]{1,4}:){1,4}:([0-9]{1,3}\\.){3,3}[0-9]{1,3}$\"\n",
    "    )\n",
    "\n",
    "    \n",
    "    for ip in ip_list:\n",
    "        if ipv6_pattern.match(ip):\n",
    "            return ip\n",
    "    return None\n",
    "\n",
    "\n",
    "elastic['ipv6'] = elastic['host.ip'].apply(lambda x: extract_ipv6(x) if isinstance(x, list) else None)\n",
    "unique_6 = elastic[['ipv6']].drop_duplicates()\n",
    "print(\"the following v6 IPs were populated in the ipv6 field:\")\n",
    "print(unique_6)"
   ]
  },
  {
   "cell_type": "code",
   "execution_count": 36,
   "id": "b40a7482-f41d-4859-84da-f524ca691969",
   "metadata": {},
   "outputs": [
    {
     "name": "stdout",
     "output_type": "stream",
     "text": [
      "the following IPs were populated in the ipv4 field:\n",
      "               ipv4\n",
      "0        10.142.0.2\n",
      "1        10.142.0.3\n",
      "96   172.16.200.127\n",
      "400            None\n"
     ]
    }
   ],
   "source": [
    "\n",
    "def extract_private_ipv4(ip_list):\n",
    "    private_ip_pattern = re.compile(\n",
    "        r\"^(10\\.\\d{1,3}\\.\\d{1,3}\\.\\d{1,3}|\"\n",
    "        r\"172\\.(1[6-9]|2[0-9]|3[0-1])\\.\\d{1,3}\\.\\d{1,3}|\"\n",
    "        r\"192\\.168\\.\\d{1,3}\\.\\d{1,3})$\"\n",
    "    )\n",
    "    \n",
    "    \n",
    "    for ip in ip_list:\n",
    "        if private_ip_pattern.match(ip):\n",
    "            return ip\n",
    "    return None\n",
    "pd.set_option('display.max_rows', 5)\n",
    "\n",
    "elastic['ipv4'] = elastic['host.ip'].apply(lambda x: extract_private_ipv4(x) if isinstance(x, list) else None)\n",
    "unique_4 = elastic[['ipv4']].drop_duplicates()\n",
    "print(\"the following IPs were populated in the ipv4 field:\")\n",
    "print(unique_4)"
   ]
  },
  {
   "cell_type": "code",
   "execution_count": 37,
   "id": "73513fb2-31e6-4f70-bee6-5bf60f966ae9",
   "metadata": {},
   "outputs": [
    {
     "name": "stdout",
     "output_type": "stream",
     "text": [
      "the following IPs were populated in the ipv4 field:\n",
      "               ipv4\n",
      "0        10.142.0.2\n",
      "1        10.142.0.3\n",
      "96   172.16.200.127\n",
      "400            None\n",
      "602  172.16.200.110\n"
     ]
    }
   ],
   "source": [
    "\n",
    "\n",
    "def find_private_ipv4(ip_data):\n",
    "    \n",
    "    private_ip_pattern = re.compile(\n",
    "        r\"^(10\\.\\d{1,3}\\.\\d{1,3}\\.\\d{1,3}|\"\n",
    "        r\"172\\.(1[6-9]|2[0-9]|3[0-1])\\.\\d{1,3}\\.\\d{1,3}|\"\n",
    "        r\"192\\.168\\.\\d{1,3}\\.\\d{1,3})$\"\n",
    "    )\n",
    "    \n",
    "    \n",
    "    if isinstance(ip_data, list):\n",
    "        for ip in ip_data:\n",
    "            if private_ip_pattern.match(ip):\n",
    "                return ip\n",
    "    \n",
    "    elif isinstance(ip_data, str):\n",
    "        if private_ip_pattern.match(ip_data):\n",
    "            return ip_data\n",
    "    return None\n",
    "\n",
    "\n",
    "elastic['ipv4'] = elastic.apply(\n",
    "    lambda row: (find_private_ipv4(row['source.ip']) or find_private_ipv4(row['destination.ip']))\n",
    "    if pd.isna(row['ipv4']) and pd.isna(row['ipv6']) else row['ipv4'],\n",
    "    axis=1\n",
    ")\n",
    "unique_4 = elastic[['ipv4']].drop_duplicates()\n",
    "print(\"the following IPs were populated in the ipv4 field:\")\n",
    "print(unique_4)\n"
   ]
  },
  {
   "cell_type": "code",
   "execution_count": 38,
   "id": "e910b380-b681-4213-9672-83e58170ddf0",
   "metadata": {},
   "outputs": [
    {
     "name": "stdout",
     "output_type": "stream",
     "text": [
      "The following entities were created:\n",
      "                                                 entity entity_type\n",
      "0     linux-ep.us-east1-b.c.neon-journal-416923.inte...    endpoint\n",
      "1     auditbeat.us-east1-b.c.neon-journal-416923.int...    endpoint\n",
      "96                                      ec2amaz-6bru6kt    endpoint\n",
      "1514  auditbeat.us-east1-b.c.neon-journal-416923.int...    endpoint\n"
     ]
    }
   ],
   "source": [
    "\n",
    "elastic['entity'] = None\n",
    "elastic['entity_type'] = None\n",
    "\n",
    "elastic.loc[\n",
    "    elastic['host.name'].notna() & \n",
    "    (elastic['host.name'] != 'None') & \n",
    "    (elastic['host.name'] != 'nan') & \n",
    "    (elastic['host.name'] != ''),\n",
    "    'entity'\n",
    "] = elastic['host.name']\n",
    "\n",
    "elastic.loc[\n",
    "    elastic['host.name'].notna() & \n",
    "    (elastic['host.name'] != 'None') & \n",
    "    (elastic['host.name'] != 'nan') & \n",
    "    (elastic['host.name'] != ''),\n",
    "    'entity_type'\n",
    "] = 'endpoint'\n",
    "\n",
    "endpoints = elastic[elastic['entity_type'] == 'endpoint'][['entity', 'entity_type']].drop_duplicates()\n",
    "\n",
    "print(\"The following entities were created:\")\n",
    "print(endpoints)"
   ]
  },
  {
   "cell_type": "code",
   "execution_count": 39,
   "id": "b41a34c8-3545-4a1c-bfc0-c4afbf160b8e",
   "metadata": {},
   "outputs": [
    {
     "name": "stdout",
     "output_type": "stream",
     "text": [
      "The following user entities were created:\n",
      "             entity entity_type\n",
      "400   Administrator        user\n",
      "681              cc        user\n",
      "1289           root        user\n"
     ]
    }
   ],
   "source": [
    "\n",
    "elastic.loc[\n",
    "    \n",
    "    (elastic['host.name'].isna() | (elastic['host.name'] == 'None') | (elastic['host.name'] == 'nan')) & \n",
    "    elastic['user.name'].notna() & \n",
    "    (elastic['user.name'] != 'None') & \n",
    "    (elastic['user.name'] != 'nan') & \n",
    "    (elastic['user.name'] != ''),\n",
    "    'entity'\n",
    "] = elastic['user.name']\n",
    "\n",
    "elastic.loc[\n",
    "    \n",
    "    (elastic['host.name'].isna() | (elastic['host.name'] == 'None') | (elastic['host.name'] == 'nan')) & \n",
    "    elastic['user.name'].notna() & \n",
    "    (elastic['user.name'] != 'None') & \n",
    "    (elastic['user.name'] != 'nan') & \n",
    "    (elastic['user.name'] != ''),\n",
    "    'entity_type'] = 'user'\n",
    "\n",
    "users = elastic[elastic['entity_type'] == 'user'][['entity', 'entity_type']].drop_duplicates()\n",
    "\n",
    "print(\"The following user entities were created:\")\n",
    "print(users)"
   ]
  },
  {
   "cell_type": "code",
   "execution_count": 40,
   "id": "a53df798-47fa-46ba-8723-8c2e0eeda5ae",
   "metadata": {},
   "outputs": [
    {
     "name": "stdout",
     "output_type": "stream",
     "text": [
      "The following host entities were created:\n",
      "             entity entity_type\n",
      "602  172.16.200.110        host\n"
     ]
    }
   ],
   "source": [
    "\n",
    "elastic.loc[\n",
    "    elastic['host.name'].isna() & \n",
    "    elastic['user.name'].isna() & \n",
    "    elastic['ipv4'].notna(), \n",
    "    'entity'] = elastic['ipv4']\n",
    "\n",
    "elastic.loc[\n",
    "    elastic['host.name'].isna() & \n",
    "    elastic['user.name'].isna() & \n",
    "    elastic['ipv4'].notna(), \n",
    "    'entity_type'] = 'host'\n",
    "\n",
    "hosts = elastic[elastic['entity_type'] == 'host'][['entity', 'entity_type']].drop_duplicates()\n",
    "\n",
    "print(\"The following host entities were created:\")\n",
    "print(hosts)"
   ]
  },
  {
   "cell_type": "code",
   "execution_count": 41,
   "id": "239cd56a-69ba-4e14-86ba-1983f71b33df",
   "metadata": {},
   "outputs": [
    {
     "name": "stdout",
     "output_type": "stream",
     "text": [
      "The following entities were created (sorted alphabetically by entity, showing up to 50 rows):\n",
      "                                                 entity entity_type\n",
      "602                                      172.16.200.110        host\n",
      "400                                       Administrator        user\n",
      "1     auditbeat.us-east1-b.c.neon-journal-416923.int...    endpoint\n",
      "1514  auditbeat.us-east1-b.c.neon-journal-416923.int...    endpoint\n",
      "681                                                  cc        user\n",
      "96                                      ec2amaz-6bru6kt    endpoint\n",
      "0     linux-ep.us-east1-b.c.neon-journal-416923.inte...    endpoint\n",
      "1289                                               root        user\n"
     ]
    }
   ],
   "source": [
    "\n",
    "pd.set_option('display.max_rows', 50)  \n",
    "\n",
    "unique_combinations = elastic[['entity', 'entity_type']].drop_duplicates().head(50)\n",
    "unique_combinations = unique_combinations.sort_values(by='entity')\n",
    "\n",
    "print(\"The following entities were created (sorted alphabetically by entity, showing up to 50 rows):\")\n",
    "print(unique_combinations)\n"
   ]
  },
  {
   "cell_type": "code",
   "execution_count": 42,
   "id": "cfd39c3f-d473-468a-9bb6-371c5538607f",
   "metadata": {},
   "outputs": [
    {
     "name": "stdout",
     "output_type": "stream",
     "text": [
      "There are no unpopulated entities.\n"
     ]
    }
   ],
   "source": [
    "\n",
    "null_elastic = elastic[\n",
    "    elastic['entity'].isna() | \n",
    "    elastic['entity_type'].isna() | \n",
    "    (elastic['entity'] == 'None') | \n",
    "    (elastic['entity_type'] == 'None') | \n",
    "    (elastic['entity'] == 'nan') | \n",
    "    (elastic['entity_type'] == 'nan')\n",
    "]\n",
    "\n",
    "\n",
    "if null_elastic.empty:\n",
    "    print(\"There are no unpopulated entities.\")\n",
    "else:\n",
    "    print(\"Rows where either 'entity' or 'entity_type' are null, None, or NaN:\")\n",
    "    print(null_elastic)"
   ]
  },
  {
   "cell_type": "code",
   "execution_count": 43,
   "id": "4d32aa0f-5110-4f7e-93a8-f0bdbcc1a275",
   "metadata": {},
   "outputs": [
    {
     "name": "stdout",
     "output_type": "stream",
     "text": [
      "Unique elastic entities have been written to the entity table\n"
     ]
    }
   ],
   "source": [
    "\n",
    "elastic['host.ip'] = elastic['host.ip'].apply(lambda x: str(x) if isinstance(x, list) else x)\n",
    "elastic['ipv4'] = elastic['ipv4'].apply(lambda x: str(x) if isinstance(x, list) else x)\n",
    "elastic['ipv6'] = elastic['ipv6'].apply(lambda x: str(x) if isinstance(x, list) else x)\n",
    "\n",
    "unique_elastic = elastic[['entity', 'entity_type', 'host.ip', 'host.name', 'ipv4', 'ipv6', 'user.name']].drop_duplicates()\n",
    "unique_elastic.to_csv('entity_table.csv', mode='a', index=False, header=not pd.io.common.file_exists('entity_table.csv'))\n",
    "\n",
    "print(\"Unique elastic entities have been written to the entity table\")\n"
   ]
  },
  {
   "cell_type": "code",
   "execution_count": 44,
   "id": "5b137ba0-9023-477e-b4cd-55f77a09f102",
   "metadata": {
    "tags": []
   },
   "outputs": [],
   "source": [
    "\n",
    "elastic = elastic.rename(columns={\n",
    "    'id': 'guid',\n",
    "    '@timestamp': 'timestamp',\n",
    "    'event.kind': 'detection_type',\n",
    "    'kibana.alert.rule.name': 'name',\n",
    "    #'id': 'severity',\n",
    "    'event.category': 'category',\n",
    "    #'id': 'mitre_tactic',\n",
    "    'ipv4': 'host_ip',\n",
    "    'source.ip': 'source_ip',\n",
    "    'destination.ip': 'dest_ip',\n",
    "    'destination.port': 'dest_port',\n",
    "    #'timestamp': 'dst_geo'\n",
    "    'user.name': 'username',\n",
    "    'event.category': 'syscall_name',\n",
    "    'process.executable': 'executable',\n",
    "    'process.name': 'process'\n",
    "    #'id': 'message',\n",
    "    #'timestamp': 'proctitle'\n",
    "})\n",
    "\n"
   ]
  },
  {
   "cell_type": "code",
   "execution_count": 45,
   "id": "be27a3fc-b107-49d9-b96a-d7f46a357bf9",
   "metadata": {
    "tags": []
   },
   "outputs": [],
   "source": [
    "\n",
    "elastic['source'] = 'elastic'\n",
    "elastic = elastic[['source'] + [col for col in elastic.columns if col != 'source']]\n"
   ]
  },
  {
   "cell_type": "code",
   "execution_count": 46,
   "id": "e320916e-7c51-4058-b4ce-4a122e944025",
   "metadata": {
    "tags": []
   },
   "outputs": [
    {
     "name": "stdout",
     "output_type": "stream",
     "text": [
      "Generated DataFrame name: elastic_20241120_190634\n",
      "DataFrame has been written to output\\elastic_20241120_190634.json\n"
     ]
    }
   ],
   "source": [
    "\n",
    "current_time = datetime.now().strftime(\"%Y%m%d_%H%M%S\")\n",
    "\n",
    "df_name = f\"elastic_{current_time}\"\n",
    "\n",
    "globals()[df_name] = elastic.copy()\n",
    "\n",
    "output_folder = 'output'\n",
    "os.makedirs(output_folder, exist_ok=True)\n",
    "\n",
    "output_file = os.path.join(output_folder, f\"{df_name}.json\")\n",
    "globals()[df_name].to_json(output_file, orient='records', lines=True)\n",
    "\n",
    "print(f\"Generated DataFrame name: {df_name}\")\n",
    "print(f\"DataFrame has been written to {output_file}\")\n"
   ]
  },
  {
   "cell_type": "code",
   "execution_count": null,
   "id": "9ff1e6d8-b402-4580-8994-623356e04c94",
   "metadata": {},
   "outputs": [],
   "source": []
  }
 ],
 "metadata": {
  "kernelspec": {
   "display_name": "Python 3 (ipykernel)",
   "language": "python",
   "name": "python3"
  },
  "language_info": {
   "codemirror_mode": {
    "name": "ipython",
    "version": 3
   },
   "file_extension": ".py",
   "mimetype": "text/x-python",
   "name": "python",
   "nbconvert_exporter": "python",
   "pygments_lexer": "ipython3",
   "version": "3.11.7"
  }
 },
 "nbformat": 4,
 "nbformat_minor": 5
}
